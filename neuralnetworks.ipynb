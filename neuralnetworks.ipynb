{
 "cells": [
  {
   "cell_type": "markdown",
   "metadata": {},
   "source": [
    "# **MLP**"
   ]
  },
  {
   "cell_type": "code",
   "execution_count": 3,
   "metadata": {},
   "outputs": [
    {
     "ename": "ModuleNotFoundError",
     "evalue": "No module named 'sklearn'",
     "output_type": "error",
     "traceback": [
      "\u001b[1;31m---------------------------------------------------------------------------\u001b[0m",
      "\u001b[1;31mModuleNotFoundError\u001b[0m                       Traceback (most recent call last)",
      "Cell \u001b[1;32mIn[3], line 2\u001b[0m\n\u001b[0;32m      1\u001b[0m \u001b[38;5;28;01mimport\u001b[39;00m \u001b[38;5;21;01mnumpy\u001b[39;00m \u001b[38;5;28;01mas\u001b[39;00m \u001b[38;5;21;01mnp\u001b[39;00m\n\u001b[1;32m----> 2\u001b[0m \u001b[38;5;28;01mfrom\u001b[39;00m \u001b[38;5;21;01msklearn\u001b[39;00m\u001b[38;5;21;01m.\u001b[39;00m\u001b[38;5;21;01mneural_network\u001b[39;00m \u001b[38;5;28;01mimport\u001b[39;00m MLPClassifier\n\u001b[0;32m      4\u001b[0m \u001b[38;5;66;03m# Define the training data\u001b[39;00m\n\u001b[0;32m      5\u001b[0m \u001b[38;5;66;03m# Each image is a 2x2 matrix represented as a flattened array (1D array of 4 elements)\u001b[39;00m\n\u001b[0;32m      6\u001b[0m \u001b[38;5;66;03m# Labels: 0 - diagonal line, 1 - single dot, 2 - whole dot, 3 - line (horizontal or vertical)\u001b[39;00m\n\u001b[0;32m      8\u001b[0m X \u001b[38;5;241m=\u001b[39m np\u001b[38;5;241m.\u001b[39marray([\n\u001b[0;32m      9\u001b[0m     [\u001b[38;5;241m1\u001b[39m, \u001b[38;5;241m0\u001b[39m, \u001b[38;5;241m0\u001b[39m, \u001b[38;5;241m1\u001b[39m],  \u001b[38;5;66;03m# diagonal line\u001b[39;00m\n\u001b[0;32m     10\u001b[0m     [\u001b[38;5;241m0\u001b[39m, \u001b[38;5;241m1\u001b[39m, \u001b[38;5;241m1\u001b[39m, \u001b[38;5;241m0\u001b[39m],  \u001b[38;5;66;03m# diagonal line\u001b[39;00m\n\u001b[1;32m   (...)\u001b[0m\n\u001b[0;32m     16\u001b[0m     [\u001b[38;5;241m1\u001b[39m, \u001b[38;5;241m0\u001b[39m, \u001b[38;5;241m1\u001b[39m, \u001b[38;5;241m0\u001b[39m],  \u001b[38;5;66;03m# vertical line\u001b[39;00m\n\u001b[0;32m     17\u001b[0m ])\n",
      "\u001b[1;31mModuleNotFoundError\u001b[0m: No module named 'sklearn'"
     ]
    }
   ],
   "source": [
    "import numpy as np\n",
    "from sklearn.neural_network import MLPClassifier\n",
    "\n",
    "# Define the training data\n",
    "# Each image is a 2x2 matrix represented as a flattened array (1D array of 4 elements)\n",
    "# Labels: 0 - diagonal line, 1 - single dot, 2 - whole dot, 3 - line (horizontal or vertical)\n",
    "\n",
    "X = np.array([\n",
    "    [1, 0, 0, 1],  # diagonal line\n",
    "    [0, 1, 1, 0],  # diagonal line\n",
    "    [1, 0, 0, 0],  # single dot\n",
    "    [0, 0, 0, 1],  # single dot\n",
    "    [1, 1, 1, 1],  # whole dot (all white)\n",
    "    [0, 0, 0, 0],  # whole dot (all black)\n",
    "    [1, 1, 0, 0],  # horizontal line\n",
    "    [1, 0, 1, 0],  # vertical line\n",
    "])\n",
    "\n",
    "y = np.array([0, 0, 1, 1, 2, 2, 3, 3])  # Corresponding labels for training data\n",
    "\n",
    "# Create an MLP classifier\n",
    "mlp = MLPClassifier(hidden_layer_sizes=(5,), max_iter=500, random_state=1)\n",
    "\n",
    "# Train the MLP\n",
    "mlp.fit(X, y)\n",
    "\n",
    "# Function for inference\n",
    "def classify_image(image):\n",
    "    # Flatten the 2x2 image to 1D array\n",
    "    image_flattened = np.array(image).flatten().reshape(1, -1)\n",
    "    \n",
    "    # Predict the class\n",
    "    prediction = mlp.predict(image_flattened)\n",
    "    \n",
    "    # Define the classes\n",
    "    classes = ['diagonal line', 'single dot', 'whole dot', 'line']\n",
    "    \n",
    "    return classes[prediction[0]]\n",
    "\n",
    "# Input image for inference (row 1: [1,1], row 2: [0,0])\n",
    "input_image = [\n",
    "    [1, 1],\n",
    "    [0, 0]\n",
    "]\n",
    "\n",
    "# Classify the input image\n",
    "output = classify_image(input_image)\n",
    "print(\"Output:\", output)\n"
   ]
  }
 ],
 "metadata": {
  "kernelspec": {
   "display_name": "Python 3",
   "language": "python",
   "name": "python3"
  },
  "language_info": {
   "codemirror_mode": {
    "name": "ipython",
    "version": 3
   },
   "file_extension": ".py",
   "mimetype": "text/x-python",
   "name": "python",
   "nbconvert_exporter": "python",
   "pygments_lexer": "ipython3",
   "version": "3.12.0"
  }
 },
 "nbformat": 4,
 "nbformat_minor": 2
}
