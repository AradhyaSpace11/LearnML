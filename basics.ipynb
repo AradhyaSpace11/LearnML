{
 "cells": [
  {
   "cell_type": "markdown",
   "metadata": {},
   "source": [
    "# Linear Regression   "
   ]
  },
  {
   "cell_type": "code",
   "execution_count": null,
   "metadata": {},
   "outputs": [],
   "source": [
    "import csv\n",
    "import matplotlib.pyplot as plt\n",
    "\n",
    "# 1. Read the CSV file manually\n",
    "# Assuming the CSV file has two columns: 'X' (input) and 'Y' (output)\n",
    "X = []\n",
    "Y = []\n",
    "with open('./datasets/pongin.csv', 'r') as file:\n",
    "    reader = csv.reader(file)\n",
    "    next(reader)  # Skip the header if it exists\n",
    "    for row in reader:\n",
    "        X.append(float(row[0]))\n",
    "        Y.append(float(row[1]))\n",
    "\n",
    "# 2. Calculate the means of X and Y\n",
    "mean_x = sum(X) / len(X)\n",
    "mean_y = sum(Y) / len(Y)\n",
    "\n",
    "# 3. Calculate the slope (m) and intercept (b) using the formula for linear regression:\n",
    "# m (slope) = Σ((x - mean_x) * (y - mean_y)) / Σ((x - mean_x)^2)\n",
    "# b (intercept) = mean_y - m * mean_x\n",
    "\n",
    "numerator = 0  # Σ((x - mean_x) * (y - mean_y))\n",
    "denominator = 0  # Σ((x - mean_x)^2)\n",
    "\n",
    "for i in range(len(X)):\n",
    "    numerator += (X[i] - mean_x) * (Y[i] - mean_y)\n",
    "    denominator += (X[i] - mean_x) ** 2\n",
    "\n",
    "m = numerator / denominator  # Slope of the line\n",
    "b = mean_y - m * mean_x      # Intercept of the line\n",
    "\n",
    "# 4. Define the regression line\n",
    "# The equation of the regression line is Y = m * X + b\n",
    "def regression_line(x):\n",
    "    return m * x + b\n",
    "\n",
    "# 5. Plot the original data points (scatter plot)\n",
    "plt.scatter(X, Y, color='blue', label='Data Points')\n",
    "\n",
    "# 6. Plot the regression line\n",
    "# Generate Y values for each X using the regression equation\n",
    "regression_Y = [regression_line(x) for x in X]\n",
    "plt.plot(X, regression_Y, color='red', label=f'Y = {m:.2f}X + {b:.2f}')\n",
    "\n",
    "# 7. Add labels and a legend\n",
    "plt.xlabel('X (Independent Variable)')\n",
    "plt.ylabel('Y (Dependent Variable)')\n",
    "plt.title('Linear Regression')\n",
    "plt.legend()\n",
    "\n",
    "# 8. Display the plot\n",
    "plt.show()\n"
   ]
  }
 ],
 "metadata": {
  "kernelspec": {
   "display_name": "Python 3",
   "language": "python",
   "name": "python3"
  },
  "language_info": {
   "codemirror_mode": {
    "name": "ipython",
    "version": 3
   },
   "file_extension": ".py",
   "mimetype": "text/x-python",
   "name": "python",
   "nbconvert_exporter": "python",
   "pygments_lexer": "ipython3",
   "version": "3.12.0"
  }
 },
 "nbformat": 4,
 "nbformat_minor": 2
}
